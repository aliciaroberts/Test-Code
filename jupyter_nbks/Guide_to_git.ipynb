{
 "cells": [
  {
   "cell_type": "markdown",
   "id": "4be48210",
   "metadata": {},
   "source": [
    "_omg hey how are you? this is an attempt to get code to be added to my github repository! hope it goes well!_"
   ]
  },
  {
   "cell_type": "markdown",
   "id": "ce3237d1",
   "metadata": {},
   "source": [
    "_so like, how do you even use git?_"
   ]
  },
  {
   "cell_type": "markdown",
   "id": "92ce2622",
   "metadata": {},
   "source": [
    "## Step 1: \n",
    "\n",
    "_you first want to create your repository, which is done through github directly. Then once you have it up, all you need to do is go to the green buttom that says code near the top right and open it up, then pick the copy botton for the given URL._\n",
    "\n",
    "_then youre going to copy it and use the command \"git clone < link here >\" into your command prompt once in the folder you would like to have your git stuff in._\n",
    "\n",
    "_to make different folders to be sent into your repository, do the command mkdir NAME OF FOLDER to make a folder in your repository (which isnt actually in the github until you commit it)_"
   ]
  },
  {
   "cell_type": "code",
   "execution_count": null,
   "id": "e87e40ae",
   "metadata": {},
   "outputs": [],
   "source": []
  }
 ],
 "metadata": {
  "kernelspec": {
   "display_name": "Python 3 (ipykernel)",
   "language": "python",
   "name": "python3"
  },
  "language_info": {
   "codemirror_mode": {
    "name": "ipython",
    "version": 3
   },
   "file_extension": ".py",
   "mimetype": "text/x-python",
   "name": "python",
   "nbconvert_exporter": "python",
   "pygments_lexer": "ipython3",
   "version": "3.9.13"
  }
 },
 "nbformat": 4,
 "nbformat_minor": 5
}
